{
 "cells": [
  {
   "cell_type": "markdown",
   "metadata": {},
   "source": [
    "# Project Description"
   ]
  },
  {
   "cell_type": "markdown",
   "metadata": {},
   "source": [
    "Toronto is home to many Hospitals but most of the hospitals are present in only certain neighbourhood of Toronto. So, we will try to find out the number of hospitals in different neighbourhoods so that people will take new houses in that neighbourhood.\n",
    "Using the Foursquare location data, I will determine which neighbourhoods of Toronto are without college or university campuses. \n"
   ]
  },
  {
   "cell_type": "markdown",
   "metadata": {},
   "source": [
    "The purpose of this analysis is to better help government decide which new place hospitals need to be built. People to buy new house where more number of hospitals are present."
   ]
  },
  {
   "cell_type": "markdown",
   "metadata": {},
   "source": [
    "# Data description"
   ]
  },
  {
   "cell_type": "markdown",
   "metadata": {},
   "source": [
    "The data that will be used for this project will be acquired from the following sources:"
   ]
  },
  {
   "cell_type": "markdown",
   "metadata": {},
   "source": [
    "The Foursquare information data contains detailed breakdowns of hospitals for different neighbourhoods and was the primary data source for this analysis. Specifically, \n",
    "A list of Toronto neighbourhoods retrieved from Wikipedia was also used.\n",
    "\n",
    "https://en.wikipedia.org/wiki/List_of_neighbourhoods_in_Toronto"
   ]
  },
  {
   "cell_type": "markdown",
   "metadata": {},
   "source": [
    "# Project Steps"
   ]
  },
  {
   "cell_type": "markdown",
   "metadata": {},
   "source": [
    "1) Scrape the html data from Wikipedia using Beautiful Soup library.\n",
    "\n",
    "2) Explore the venues of each neighborhood using Foursquare API.\n",
    "\n",
    "3) Get the latitude and longitude data using Geocoder.Arcgis library.\n",
    "\n",
    "4) Scrape all the data above and combine them into one dataframe.\n",
    "\n",
    "5) Group by Neighbourhood and count the occurrences of each type for each Neighbourhood.\n",
    "\n",
    "6) Cluster each Neighbourhood based on their venue and add the cluster back into the initial dataframe.\n",
    "\n",
    "7) Write the summary of our results."
   ]
  },
  {
   "cell_type": "markdown",
   "metadata": {},
   "source": [
    "### Methodology"
   ]
  },
  {
   "cell_type": "markdown",
   "metadata": {},
   "source": [
    "A list of Hospitals in Toronto, On was pulled using the Foursquare location data. That list was then cross-referenced with the Wikipedia neighbourhood data to determine what neighbourhood each location was part of by matching the first three digits of the Postal Codes.\n",
    "This new dataframe was then grouped to determine which neighbourhoods in Toronto contained more number of hospitals. That list was then compared to the total list of neighbourhoods to determine finally what neighbourhoods are hospitals.\n",
    "Finally, the list of neighbourhoods with institutions was mapped to visually demonstrate whether Toronto higher education institutions are, in fact, equally distributed.\n",
    "\n"
   ]
  },
  {
   "cell_type": "code",
   "execution_count": null,
   "metadata": {},
   "outputs": [],
   "source": []
  }
 ],
 "metadata": {
  "kernelspec": {
   "display_name": "Python 3",
   "language": "python",
   "name": "python3"
  },
  "language_info": {
   "codemirror_mode": {
    "name": "ipython",
    "version": 3
   },
   "file_extension": ".py",
   "mimetype": "text/x-python",
   "name": "python",
   "nbconvert_exporter": "python",
   "pygments_lexer": "ipython3",
   "version": "3.7.4"
  }
 },
 "nbformat": 4,
 "nbformat_minor": 2
}
