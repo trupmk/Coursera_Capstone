{
 "cells": [
  {
   "cell_type": "markdown",
   "metadata": {},
   "source": [
    "# Project Description"
   ]
  },
  {
   "cell_type": "markdown",
   "metadata": {},
   "source": [
    "A language is often defined as a set of varieties that are mutually intelligible, but independent national standard languages may be considered to be separate languages even though they are largely mutually intelligible, as in the case of Danish and Norwegian. Conversely, many commonly accepted languages, including German, Italian and even English, encompass varieties that are not mutually intelligible.While Arabic is sometimes considered a single language centred on Modern Standard Arabic, other authors describe its mutually unintelligible varieties as separate languages. Similarly, Chinese is sometimes viewed as a single language because of a shared culture and common literary language. It is also common to describe various Chinese dialect groups, such as Mandarin, Wu and Yue, as languages, even though each of these groups contains many mutually unintelligible varieties.\n",
    "\n",
    "There are also difficulties in obtaining reliable counts of speakers, which vary over time because of population change and language shift. In some areas, there is no reliable census data, the data is not current, or the census may not record languages spoken, or record them ambiguously. Sometimes speaker populations are exaggerated for political reasons, or speakers of minority languages may be under-reported in favour of a national language."
   ]
  },
  {
   "cell_type": "markdown",
   "metadata": {},
   "source": [
    "The main objective of this survey is to examine the languages of the world and categorize them. \n",
    "We can also identify which are the most popular languages that are spoken throughout the world. "
   ]
  },
  {
   "cell_type": "markdown",
   "metadata": {},
   "source": [
    "# Data description"
   ]
  },
  {
   "cell_type": "markdown",
   "metadata": {},
   "source": [
    "The data that will be used for this project will be acquired from the following sources:"
   ]
  },
  {
   "cell_type": "markdown",
   "metadata": {},
   "source": [
    "Languages of the world using Wikipedia : https://en.wikipedia.org/wiki/List_of_languages_by_number_of_native_speakers\n",
    "\n",
    "The different countries in the world : https://developer.foursquare.com/\n",
    "\n",
    "Coordinates of each Neighbourhood/postcode using geocoder python library : (https://developers.arcgis.com/python/guide/using-the-geocode-function/)"
   ]
  },
  {
   "cell_type": "markdown",
   "metadata": {},
   "source": [
    "# Project Steps"
   ]
  },
  {
   "cell_type": "markdown",
   "metadata": {},
   "source": [
    "1) Scrape the languages html data from Wikipedia using Beautiful Soup library.\n",
    "\n",
    "2) Explore the venues of each language using Foursquare API.\n",
    "\n",
    "3) Get the latitude and longitude data using Geocoder.Arcgis library.\n",
    "\n",
    "4) Scrape all the data above and combine them into one dataframe.\n",
    "\n",
    "5) Group by Neighbourhood and count the occurrences of each language type for each Neighbourhood.\n",
    "\n",
    "6) Cluster each Neighbourhood based on their languages and add the cluster back into the initial dataframe.\n",
    "\n",
    "7) Write the summary of our results."
   ]
  },
  {
   "cell_type": "code",
   "execution_count": null,
   "metadata": {},
   "outputs": [],
   "source": []
  }
 ],
 "metadata": {
  "kernelspec": {
   "display_name": "Python 3",
   "language": "python",
   "name": "python3"
  },
  "language_info": {
   "codemirror_mode": {
    "name": "ipython",
    "version": 3
   },
   "file_extension": ".py",
   "mimetype": "text/x-python",
   "name": "python",
   "nbconvert_exporter": "python",
   "pygments_lexer": "ipython3",
   "version": "3.7.4"
  }
 },
 "nbformat": 4,
 "nbformat_minor": 2
}
